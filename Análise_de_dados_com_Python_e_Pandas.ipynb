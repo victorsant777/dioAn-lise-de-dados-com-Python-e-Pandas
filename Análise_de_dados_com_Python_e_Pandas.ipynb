{
  "nbformat": 4,
  "nbformat_minor": 0,
  "metadata": {
    "colab": {
      "name": "Análise de dados com Python e Pandas.ipynb",
      "provenance": [],
      "authorship_tag": "ABX9TyPBKE5aQPqFhhyWaRJ3hGrG"
    },
    "kernelspec": {
      "name": "python3",
      "display_name": "Python 3"
    },
    "language_info": {
      "name": "python"
    }
  },
  "cells": [
    {
      "cell_type": "code",
      "metadata": {
        "colab": {
          "base_uri": "https://localhost:8080/"
        },
        "id": "JiVc8m2WmgYc",
        "outputId": "51bcc732-69c7-473e-8f0e-6a74a03d80fc"
      },
      "source": [
        "print(\"Olá Mundo\")"
      ],
      "execution_count": 1,
      "outputs": [
        {
          "output_type": "stream",
          "name": "stdout",
          "text": [
            "Olá Mundo\n"
          ]
        }
      ]
    },
    {
      "cell_type": "code",
      "metadata": {
        "colab": {
          "base_uri": "https://localhost:8080/"
        },
        "id": "bQLxISRiqPkH",
        "outputId": "f4e1e683-3129-4310-a67d-54d2d290fed0"
      },
      "source": [
        "print(\"Estou apendendo python\")"
      ],
      "execution_count": 2,
      "outputs": [
        {
          "output_type": "stream",
          "name": "stdout",
          "text": [
            "Estou apendendo python\n"
          ]
        }
      ]
    },
    {
      "cell_type": "code",
      "metadata": {
        "id": "FgDISijwqlJA"
      },
      "source": [
        "lista = ['gato', 'cachorro','papagaio']"
      ],
      "execution_count": 4,
      "outputs": []
    }
  ]
}