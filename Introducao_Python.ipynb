{
  "nbformat": 4,
  "nbformat_minor": 0,
  "metadata": {
    "colab": {
      "name": "Introducao_Python.ipynb",
      "provenance": [],
      "collapsed_sections": [],
      "authorship_tag": "ABX9TyNboTctPvNA93hLeeqazWTD",
      "include_colab_link": true
    },
    "kernelspec": {
      "name": "python3",
      "display_name": "Python 3"
    },
    "language_info": {
      "name": "python"
    }
  },
  "cells": [
    {
      "cell_type": "markdown",
      "metadata": {
        "id": "view-in-github",
        "colab_type": "text"
      },
      "source": [
        "<a href=\"https://colab.research.google.com/github/victorsant777/dioAn-lise-de-dados-com-Python-e-Pandas/blob/main/Introducao_Python.ipynb\" target=\"_parent\"><img src=\"https://colab.research.google.com/assets/colab-badge.svg\" alt=\"Open In Colab\"/></a>"
      ]
    },
    {
      "cell_type": "markdown",
      "metadata": {
        "id": "SlKU3nOttEFn"
      },
      "source": [
        "**COMANDOS BÁSICOS**"
      ]
    },
    {
      "cell_type": "markdown",
      "metadata": {
        "id": "Z7C6GZhWtVK1"
      },
      "source": [
        "*Comando para exibir na tela*"
      ]
    },
    {
      "cell_type": "code",
      "metadata": {
        "colab": {
          "base_uri": "https://localhost:8080/"
        },
        "id": "JiVc8m2WmgYc",
        "outputId": "51bcc732-69c7-473e-8f0e-6a74a03d80fc"
      },
      "source": [
        "print(\"Olá Mundo\")"
      ],
      "execution_count": null,
      "outputs": [
        {
          "output_type": "stream",
          "name": "stdout",
          "text": [
            "Olá Mundo\n"
          ]
        }
      ]
    },
    {
      "cell_type": "code",
      "metadata": {
        "colab": {
          "base_uri": "https://localhost:8080/"
        },
        "id": "bQLxISRiqPkH",
        "outputId": "f4e1e683-3129-4310-a67d-54d2d290fed0"
      },
      "source": [
        "print(\"Estou apendendo python\")"
      ],
      "execution_count": null,
      "outputs": [
        {
          "output_type": "stream",
          "name": "stdout",
          "text": [
            "Estou apendendo python\n"
          ]
        }
      ]
    },
    {
      "cell_type": "markdown",
      "metadata": {
        "id": "LZC02BWAtgGE"
      },
      "source": [
        "*Atribruindo valores string a uma variavel*"
      ]
    },
    {
      "cell_type": "code",
      "metadata": {
        "id": "TpkHgwDorhgj"
      },
      "source": [
        "frase =\"Python com certeza é a melhor libguagem\""
      ],
      "execution_count": null,
      "outputs": []
    },
    {
      "cell_type": "code",
      "metadata": {
        "colab": {
          "base_uri": "https://localhost:8080/"
        },
        "id": "3rfMmP7ZrqIf",
        "outputId": "58084c61-c587-43e5-d999-38fbe95683f3"
      },
      "source": [
        "#exibindo o que foi atribuido a variavel frase\n",
        "print(frase)"
      ],
      "execution_count": null,
      "outputs": [
        {
          "output_type": "stream",
          "name": "stdout",
          "text": [
            "Python com certeza é a melhor libguagem\n"
          ]
        }
      ]
    },
    {
      "cell_type": "markdown",
      "metadata": {
        "id": "_c4opu9Lt2j-"
      },
      "source": [
        "*Exibinto uma quantidade de caracteres atribuido a uma vareavel*"
      ]
    },
    {
      "cell_type": "code",
      "metadata": {
        "colab": {
          "base_uri": "https://localhost:8080/"
        },
        "id": "Xf3L3X3Brurk",
        "outputId": "0a276ed8-47b3-4545-d62e-fc116665159e"
      },
      "source": [
        "print (frase[0:10])"
      ],
      "execution_count": null,
      "outputs": [
        {
          "output_type": "stream",
          "name": "stdout",
          "text": [
            "Python com\n"
          ]
        }
      ]
    },
    {
      "cell_type": "code",
      "metadata": {
        "colab": {
          "base_uri": "https://localhost:8080/"
        },
        "id": "hJLAU6-JsGAk",
        "outputId": "5534250f-78ac-46a6-abb2-16bd295f123e"
      },
      "source": [
        "print (frase[:17])"
      ],
      "execution_count": null,
      "outputs": [
        {
          "output_type": "stream",
          "name": "stdout",
          "text": [
            "Python com certez\n"
          ]
        }
      ]
    },
    {
      "cell_type": "code",
      "metadata": {
        "colab": {
          "base_uri": "https://localhost:8080/"
        },
        "id": "R4-BMVZBsKWm",
        "outputId": "e56de98d-4220-444c-e70f-a785baf0a06a"
      },
      "source": [
        "print(frase[17:])"
      ],
      "execution_count": null,
      "outputs": [
        {
          "output_type": "stream",
          "name": "stdout",
          "text": [
            "a é a melhor libguagem\n"
          ]
        }
      ]
    },
    {
      "cell_type": "markdown",
      "metadata": {
        "id": "ddGLA-J7ueJI"
      },
      "source": [
        "*Contando uma quantidade de palavras*"
      ]
    },
    {
      "cell_type": "code",
      "metadata": {
        "colab": {
          "base_uri": "https://localhost:8080/"
        },
        "id": "hG4WatDSsV6D",
        "outputId": "545ba4c3-6b98-4341-87f8-ff427dcda5f7"
      },
      "source": [
        "frase.count('Python')"
      ],
      "execution_count": null,
      "outputs": [
        {
          "output_type": "execute_result",
          "data": {
            "text/plain": [
              "1"
            ]
          },
          "metadata": {},
          "execution_count": 10
        }
      ]
    },
    {
      "cell_type": "markdown",
      "metadata": {
        "id": "H74dw5PKuoWl"
      },
      "source": [
        "*Escrevendo um texto em toda uma variavel em minuscula*"
      ]
    },
    {
      "cell_type": "code",
      "metadata": {
        "colab": {
          "base_uri": "https://localhost:8080/",
          "height": 35
        },
        "id": "2PqgvPomsfOH",
        "outputId": "89489bf6-75d1-4139-df63-602a07b4dd70"
      },
      "source": [
        "frase.lower()"
      ],
      "execution_count": null,
      "outputs": [
        {
          "output_type": "execute_result",
          "data": {
            "application/vnd.google.colaboratory.intrinsic+json": {
              "type": "string"
            },
            "text/plain": [
              "'python com certeza é a melhor libguagem'"
            ]
          },
          "metadata": {},
          "execution_count": 11
        }
      ]
    },
    {
      "cell_type": "markdown",
      "metadata": {
        "id": "KaR49y1DuyUZ"
      },
      "source": [
        "*Escrevendo um texto em toda uma variavel em maiuscula*"
      ]
    },
    {
      "cell_type": "code",
      "metadata": {
        "colab": {
          "base_uri": "https://localhost:8080/",
          "height": 35
        },
        "id": "tv1poLYzskSo",
        "outputId": "432fd876-51c8-4cab-ccfa-7586fd60d56b"
      },
      "source": [
        "frase.upper()"
      ],
      "execution_count": null,
      "outputs": [
        {
          "output_type": "execute_result",
          "data": {
            "application/vnd.google.colaboratory.intrinsic+json": {
              "type": "string"
            },
            "text/plain": [
              "'PYTHON COM CERTEZA É A MELHOR LIBGUAGEM'"
            ]
          },
          "metadata": {},
          "execution_count": 12
        }
      ]
    },
    {
      "cell_type": "markdown",
      "metadata": {
        "id": "1xiv_4rdu3Rj"
      },
      "source": [
        "*Alterando uma palavra por outra*"
      ]
    },
    {
      "cell_type": "code",
      "metadata": {
        "colab": {
          "base_uri": "https://localhost:8080/",
          "height": 35
        },
        "id": "GghS95-SsnWp",
        "outputId": "f86f08a1-fce2-4237-8776-3d05b2df5912"
      },
      "source": [
        "frase.replace(\"Python\", \"python\")"
      ],
      "execution_count": null,
      "outputs": [
        {
          "output_type": "execute_result",
          "data": {
            "application/vnd.google.colaboratory.intrinsic+json": {
              "type": "string"
            },
            "text/plain": [
              "'python com certeza é a melhor libguagem'"
            ]
          },
          "metadata": {},
          "execution_count": 13
        }
      ]
    },
    {
      "cell_type": "code",
      "metadata": {
        "id": "FBGfM0USs1cA"
      },
      "source": [
        ""
      ],
      "execution_count": null,
      "outputs": []
    },
    {
      "cell_type": "markdown",
      "metadata": {
        "id": "QPHzqjrQs5_D"
      },
      "source": [
        ""
      ]
    }
  ]
}