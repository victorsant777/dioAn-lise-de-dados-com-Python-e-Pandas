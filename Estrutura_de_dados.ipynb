{
  "nbformat": 4,
  "nbformat_minor": 0,
  "metadata": {
    "colab": {
      "name": "Estrutura de dados.ipynb",
      "provenance": [],
      "authorship_tag": "ABX9TyM3grzD3fA7aQMuexQFBH4s",
      "include_colab_link": true
    },
    "kernelspec": {
      "name": "python3",
      "display_name": "Python 3"
    },
    "language_info": {
      "name": "python"
    }
  },
  "cells": [
    {
      "cell_type": "markdown",
      "metadata": {
        "id": "view-in-github",
        "colab_type": "text"
      },
      "source": [
        "<a href=\"https://colab.research.google.com/github/victorsant777/dioAn-lise-de-dados-com-Python-e-Pandas/blob/main/Estrutura_de_dados.ipynb\" target=\"_parent\"><img src=\"https://colab.research.google.com/assets/colab-badge.svg\" alt=\"Open In Colab\"/></a>"
      ]
    },
    {
      "cell_type": "markdown",
      "metadata": {
        "id": "8sce1lnk1-_y"
      },
      "source": [
        "**LISTAS**"
      ]
    },
    {
      "cell_type": "code",
      "metadata": {
        "colab": {
          "base_uri": "https://localhost:8080/"
        },
        "id": "KJWVSmSKvlps",
        "outputId": "1435bc29-0047-4222-cc5c-b82fbc5c194d"
      },
      "source": [
        "animais = ['gato', 'cachorro', 'papagaio']\n",
        "animais"
      ],
      "execution_count": null,
      "outputs": [
        {
          "output_type": "execute_result",
          "data": {
            "text/plain": [
              "['gato', 'cachorro', 'papagaio']"
            ]
          },
          "metadata": {},
          "execution_count": 2
        }
      ]
    },
    {
      "cell_type": "code",
      "metadata": {
        "colab": {
          "base_uri": "https://localhost:8080/"
        },
        "id": "fP6iUQ1hwcXx",
        "outputId": "597d93be-a021-46d9-a73e-7101ce66258d"
      },
      "source": [
        "animal = [1, 2, 3]\n",
        "animal"
      ],
      "execution_count": null,
      "outputs": [
        {
          "output_type": "execute_result",
          "data": {
            "text/plain": [
              "[1, 2, 3]"
            ]
          },
          "metadata": {},
          "execution_count": 3
        }
      ]
    },
    {
      "cell_type": "code",
      "metadata": {
        "colab": {
          "base_uri": "https://localhost:8080/"
        },
        "id": "CVXLByEYwjWE",
        "outputId": "adbbec9d-31fd-465b-fbcd-aeb1abaac37a"
      },
      "source": [
        "anim = ['gato', 'cachorro', 1, 2, 3]\n",
        "anim"
      ],
      "execution_count": null,
      "outputs": [
        {
          "output_type": "execute_result",
          "data": {
            "text/plain": [
              "['gato', 'cachorro', 1, 2, 3]"
            ]
          },
          "metadata": {},
          "execution_count": 4
        }
      ]
    },
    {
      "cell_type": "code",
      "metadata": {
        "colab": {
          "base_uri": "https://localhost:8080/",
          "height": 35
        },
        "id": "-FFGeXxQw3c1",
        "outputId": "32ff5fb3-47fb-4e35-f4ed-f16433c711cf"
      },
      "source": [
        "anim[0]"
      ],
      "execution_count": null,
      "outputs": [
        {
          "output_type": "execute_result",
          "data": {
            "application/vnd.google.colaboratory.intrinsic+json": {
              "type": "string"
            },
            "text/plain": [
              "'gato'"
            ]
          },
          "metadata": {},
          "execution_count": 5
        }
      ]
    },
    {
      "cell_type": "code",
      "metadata": {
        "colab": {
          "base_uri": "https://localhost:8080/"
        },
        "id": "mXDy39CZw6SO",
        "outputId": "96dae612-6b06-4c1d-d107-72050512abfa"
      },
      "source": [
        "anim[2]"
      ],
      "execution_count": null,
      "outputs": [
        {
          "output_type": "execute_result",
          "data": {
            "text/plain": [
              "1"
            ]
          },
          "metadata": {},
          "execution_count": 8
        }
      ]
    },
    {
      "cell_type": "code",
      "metadata": {
        "id": "ZNgcvNjzxG8L"
      },
      "source": [
        "anim[2] = \"papagaio\""
      ],
      "execution_count": null,
      "outputs": []
    },
    {
      "cell_type": "code",
      "metadata": {
        "colab": {
          "base_uri": "https://localhost:8080/"
        },
        "id": "tsYcVKeHxYNz",
        "outputId": "41bc1848-35b7-4a87-d535-5667a2bac31f"
      },
      "source": [
        "anim"
      ],
      "execution_count": null,
      "outputs": [
        {
          "output_type": "execute_result",
          "data": {
            "text/plain": [
              "['gato', 'cachorro', 'papagaio', 2, 3]"
            ]
          },
          "metadata": {},
          "execution_count": 12
        }
      ]
    },
    {
      "cell_type": "code",
      "metadata": {
        "id": "mb8w3GflxbPM"
      },
      "source": [
        "anim.remove(2)"
      ],
      "execution_count": null,
      "outputs": []
    },
    {
      "cell_type": "code",
      "metadata": {
        "colab": {
          "base_uri": "https://localhost:8080/"
        },
        "id": "s2ftTkEmxe_1",
        "outputId": "207bbf39-3cc2-4145-80a0-077f42703162"
      },
      "source": [
        "anim"
      ],
      "execution_count": null,
      "outputs": [
        {
          "output_type": "execute_result",
          "data": {
            "text/plain": [
              "['gato', 'cachorro', 'papagaio', 3]"
            ]
          },
          "metadata": {},
          "execution_count": 15
        }
      ]
    },
    {
      "cell_type": "code",
      "metadata": {
        "colab": {
          "base_uri": "https://localhost:8080/"
        },
        "id": "6dB0rnhQxsX0",
        "outputId": "33fc8971-2044-4c7b-a64d-4c184665e88e"
      },
      "source": [
        "#quantidades de elementos em uma lista\n",
        "len(anim)"
      ],
      "execution_count": null,
      "outputs": [
        {
          "output_type": "execute_result",
          "data": {
            "text/plain": [
              "4"
            ]
          },
          "metadata": {},
          "execution_count": 17
        }
      ]
    },
    {
      "cell_type": "code",
      "metadata": {
        "colab": {
          "base_uri": "https://localhost:8080/"
        },
        "id": "8eV9ZjTgx9-s",
        "outputId": "ae89290d-703c-4a5b-8d25-6edcdbe5b221"
      },
      "source": [
        "\"gato\" in anim"
      ],
      "execution_count": null,
      "outputs": [
        {
          "output_type": "execute_result",
          "data": {
            "text/plain": [
              "True"
            ]
          },
          "metadata": {},
          "execution_count": 19
        }
      ]
    },
    {
      "cell_type": "code",
      "metadata": {
        "id": "lsBzAmrhyI7x"
      },
      "source": [
        "valor=[500,400,300,200,100]"
      ],
      "execution_count": null,
      "outputs": []
    },
    {
      "cell_type": "code",
      "metadata": {
        "colab": {
          "base_uri": "https://localhost:8080/"
        },
        "id": "XFE4xyXEyUdW",
        "outputId": "68f9c09c-76a3-45d9-91cc-532e2f375c23"
      },
      "source": [
        "max(valor)"
      ],
      "execution_count": null,
      "outputs": [
        {
          "output_type": "execute_result",
          "data": {
            "text/plain": [
              "500"
            ]
          },
          "metadata": {},
          "execution_count": 21
        }
      ]
    },
    {
      "cell_type": "code",
      "metadata": {
        "colab": {
          "base_uri": "https://localhost:8080/"
        },
        "id": "ILzA-EGDyXP3",
        "outputId": "b942ce73-2d1f-43e8-843c-871007d65ce4"
      },
      "source": [
        "min(valor)"
      ],
      "execution_count": null,
      "outputs": [
        {
          "output_type": "execute_result",
          "data": {
            "text/plain": [
              "100"
            ]
          },
          "metadata": {},
          "execution_count": 22
        }
      ]
    },
    {
      "cell_type": "code",
      "metadata": {
        "id": "M-8ld-RayZbI"
      },
      "source": [
        "#adicionando um elemento a lista\n",
        "anim.append(\"leão\")"
      ],
      "execution_count": null,
      "outputs": []
    },
    {
      "cell_type": "code",
      "metadata": {
        "id": "yv2t-TzXygyE"
      },
      "source": [
        "#Adicionando mais de um elemento a lista"
      ],
      "execution_count": null,
      "outputs": []
    },
    {
      "cell_type": "code",
      "metadata": {
        "id": "31Kimrdxyu5q"
      },
      "source": [
        "anim.extend(['jacaré', 9])"
      ],
      "execution_count": null,
      "outputs": []
    },
    {
      "cell_type": "code",
      "metadata": {
        "colab": {
          "base_uri": "https://localhost:8080/"
        },
        "id": "VwTxkNKUy1hF",
        "outputId": "4e73d2a0-b19b-46cf-dea0-44622bfbd6e9"
      },
      "source": [
        "anim"
      ],
      "execution_count": null,
      "outputs": [
        {
          "output_type": "execute_result",
          "data": {
            "text/plain": [
              "['gato', 'cachorro', 'papagaio', 3, 'leão', 'leão', 'jacaré', 9]"
            ]
          },
          "metadata": {},
          "execution_count": 27
        }
      ]
    },
    {
      "cell_type": "code",
      "metadata": {
        "colab": {
          "base_uri": "https://localhost:8080/"
        },
        "id": "FwIBUwEEy219",
        "outputId": "acc6deca-793a-472a-8304-7503e2a8619b"
      },
      "source": [
        "#Contando a quantidades de vezes que uma palavra aparece em uma lista\n",
        "anim.count(\"leão\")"
      ],
      "execution_count": null,
      "outputs": [
        {
          "output_type": "execute_result",
          "data": {
            "text/plain": [
              "2"
            ]
          },
          "metadata": {},
          "execution_count": 30
        }
      ]
    },
    {
      "cell_type": "code",
      "metadata": {
        "id": "KbmQ3fxjzVmD"
      },
      "source": [
        "#ordenar uma lista no menor para o maior\n",
        "valor.sort()"
      ],
      "execution_count": null,
      "outputs": []
    },
    {
      "cell_type": "code",
      "metadata": {
        "colab": {
          "base_uri": "https://localhost:8080/"
        },
        "id": "LjZ2LaW_0HJ6",
        "outputId": "f4d80518-3b46-4f1a-9e2e-8b6748775964"
      },
      "source": [
        "valor"
      ],
      "execution_count": null,
      "outputs": [
        {
          "output_type": "execute_result",
          "data": {
            "text/plain": [
              "[100, 200, 300, 400, 500]"
            ]
          },
          "metadata": {},
          "execution_count": 34
        }
      ]
    },
    {
      "cell_type": "code",
      "metadata": {
        "id": "HM1Z0Spa0JQa"
      },
      "source": [
        ""
      ],
      "execution_count": null,
      "outputs": []
    },
    {
      "cell_type": "markdown",
      "metadata": {
        "id": "o-aeVMqN0YZa"
      },
      "source": [
        "**TUPLAS**"
      ]
    },
    {
      "cell_type": "code",
      "metadata": {
        "id": "4hrF_Dtn00nI"
      },
      "source": [
        "tp=('gato', 'cachorro', 1, 2, 3)"
      ],
      "execution_count": null,
      "outputs": []
    },
    {
      "cell_type": "code",
      "metadata": {
        "colab": {
          "base_uri": "https://localhost:8080/",
          "height": 35
        },
        "id": "roDcfQB8085z",
        "outputId": "cea66fac-1620-40d4-b3e5-c774da5af025"
      },
      "source": [
        "tp[0]"
      ],
      "execution_count": null,
      "outputs": [
        {
          "output_type": "execute_result",
          "data": {
            "application/vnd.google.colaboratory.intrinsic+json": {
              "type": "string"
            },
            "text/plain": [
              "'gato'"
            ]
          },
          "metadata": {},
          "execution_count": 36
        }
      ]
    },
    {
      "cell_type": "code",
      "metadata": {
        "colab": {
          "base_uri": "https://localhost:8080/",
          "height": 214
        },
        "id": "zPbRtNEn1GrC",
        "outputId": "4a8c7ae2-aa57-4684-a800-9657625bbb74"
      },
      "source": [
        "#Diferença de uma lista para tuplas é que seus valores são \n",
        "#então ao tentar o comando abaixo para alterar o valor de um indix o mesmo ira gerar um erro como resposta\n",
        "tp[0] = \"piriquito\""
      ],
      "execution_count": null,
      "outputs": [
        {
          "output_type": "error",
          "ename": "TypeError",
          "evalue": "ignored",
          "traceback": [
            "\u001b[0;31m---------------------------------------------------------------------------\u001b[0m",
            "\u001b[0;31mTypeError\u001b[0m                                 Traceback (most recent call last)",
            "\u001b[0;32m<ipython-input-38-c26dc40de665>\u001b[0m in \u001b[0;36m<module>\u001b[0;34m()\u001b[0m\n\u001b[1;32m      1\u001b[0m \u001b[0;31m#Diferença de uma lista para tuplas é que seus valores são\u001b[0m\u001b[0;34m\u001b[0m\u001b[0;34m\u001b[0m\u001b[0;34m\u001b[0m\u001b[0m\n\u001b[1;32m      2\u001b[0m \u001b[0;31m#então ao tentar o comando abaixo para alterar o valor de um indix o mesmo ira gerar um erro como resposta\u001b[0m\u001b[0;34m\u001b[0m\u001b[0;34m\u001b[0m\u001b[0;34m\u001b[0m\u001b[0m\n\u001b[0;32m----> 3\u001b[0;31m \u001b[0mtp\u001b[0m\u001b[0;34m[\u001b[0m\u001b[0;36m0\u001b[0m\u001b[0;34m]\u001b[0m \u001b[0;34m=\u001b[0m \u001b[0;34m\"piriquito\"\u001b[0m\u001b[0;34m\u001b[0m\u001b[0;34m\u001b[0m\u001b[0m\n\u001b[0m",
            "\u001b[0;31mTypeError\u001b[0m: 'tuple' object does not support item assignment"
          ]
        }
      ]
    },
    {
      "cell_type": "code",
      "metadata": {
        "colab": {
          "base_uri": "https://localhost:8080/"
        },
        "id": "2o-G5JWm1Px6",
        "outputId": "5ce5009d-06ec-4048-d654-d90bd3ad1ea3"
      },
      "source": [
        "tp.count(\"gato\")"
      ],
      "execution_count": null,
      "outputs": [
        {
          "output_type": "execute_result",
          "data": {
            "text/plain": [
              "1"
            ]
          },
          "metadata": {},
          "execution_count": 39
        }
      ]
    },
    {
      "cell_type": "code",
      "metadata": {
        "colab": {
          "base_uri": "https://localhost:8080/"
        },
        "id": "EDhf5U6x1tXX",
        "outputId": "c0fba046-0624-492f-e8fc-7ca009110a87"
      },
      "source": [
        "tp[0:1]"
      ],
      "execution_count": null,
      "outputs": [
        {
          "output_type": "execute_result",
          "data": {
            "text/plain": [
              "('gato',)"
            ]
          },
          "metadata": {},
          "execution_count": 40
        }
      ]
    },
    {
      "cell_type": "markdown",
      "metadata": {
        "id": "__QwOVSH11vE"
      },
      "source": [
        "**DICIONÁRIOS**"
      ]
    },
    {
      "cell_type": "code",
      "metadata": {
        "id": "Eit5XJRH1wxR"
      },
      "source": [
        "#Para criar um dicionário utilizamos as {}\n",
        "dc = {\"Maçã\": 20,'gato':10, 'cachorro':30, 'papagaio':40}"
      ],
      "execution_count": 42,
      "outputs": []
    },
    {
      "cell_type": "code",
      "metadata": {
        "colab": {
          "base_uri": "https://localhost:8080/"
        },
        "id": "m716Fma44X5l",
        "outputId": "17be876f-f058-4656-ce3e-83fca6e7f62f"
      },
      "source": [
        "dc"
      ],
      "execution_count": 43,
      "outputs": [
        {
          "output_type": "execute_result",
          "data": {
            "text/plain": [
              "{'Maçã': 20, 'cachorro': 30, 'gato': 10, 'papagaio': 40}"
            ]
          },
          "metadata": {},
          "execution_count": 43
        }
      ]
    },
    {
      "cell_type": "code",
      "metadata": {
        "colab": {
          "base_uri": "https://localhost:8080/"
        },
        "id": "_aVc2OjZ5Rw3",
        "outputId": "08559b61-aef1-4336-c146-5d48460ba1b6"
      },
      "source": [
        "#Acessando o valor de uma lista pela chave atribuida\n",
        "dc[\"Maçã\"]"
      ],
      "execution_count": 44,
      "outputs": [
        {
          "output_type": "execute_result",
          "data": {
            "text/plain": [
              "20"
            ]
          },
          "metadata": {},
          "execution_count": 44
        }
      ]
    },
    {
      "cell_type": "code",
      "metadata": {
        "id": "irxHhVdt5cJk"
      },
      "source": [
        "#Atualizar o valor de Macâ\n",
        "dc[\"Maçã\"] = 25"
      ],
      "execution_count": 45,
      "outputs": []
    },
    {
      "cell_type": "code",
      "metadata": {
        "id": "gV0-9x2g7a4e"
      },
      "source": [
        ""
      ],
      "execution_count": null,
      "outputs": []
    },
    {
      "cell_type": "code",
      "metadata": {
        "colab": {
          "base_uri": "https://localhost:8080/"
        },
        "id": "kpMBFpr552RQ",
        "outputId": "f87393ad-2be2-4eb9-ac18-3a65f376137f"
      },
      "source": [
        "dc"
      ],
      "execution_count": 46,
      "outputs": [
        {
          "output_type": "execute_result",
          "data": {
            "text/plain": [
              "{'Maçã': 25, 'cachorro': 30, 'gato': 10, 'papagaio': 40}"
            ]
          },
          "metadata": {},
          "execution_count": 46
        }
      ]
    },
    {
      "cell_type": "code",
      "metadata": {
        "colab": {
          "base_uri": "https://localhost:8080/"
        },
        "id": "VM0fmbzr53Yw",
        "outputId": "90eb2c72-7483-4384-83d4-ed92caa2f123"
      },
      "source": [
        "#Retornar as chaves de um dicionário\n",
        "dc.keys()"
      ],
      "execution_count": 47,
      "outputs": [
        {
          "output_type": "execute_result",
          "data": {
            "text/plain": [
              "dict_keys(['Maçã', 'gato', 'cachorro', 'papagaio'])"
            ]
          },
          "metadata": {},
          "execution_count": 47
        }
      ]
    },
    {
      "cell_type": "code",
      "metadata": {
        "colab": {
          "base_uri": "https://localhost:8080/"
        },
        "id": "N6C4NXwy6Iaf",
        "outputId": "b748eb6d-4bf1-487c-caad-98e859e693ba"
      },
      "source": [
        "#Retornar o valores das chaves\n",
        "dc.values()\n"
      ],
      "execution_count": 51,
      "outputs": [
        {
          "output_type": "execute_result",
          "data": {
            "text/plain": [
              "dict_values([25, 10, 30, 40])"
            ]
          },
          "metadata": {},
          "execution_count": 51
        }
      ]
    },
    {
      "cell_type": "code",
      "metadata": {
        "colab": {
          "base_uri": "https://localhost:8080/"
        },
        "id": "KRZfC-As6bZ_",
        "outputId": "f77628ea-0c78-4e8b-cda1-f9a09c45a609"
      },
      "source": [
        "#Verifica se ja existe um chave no dicionario caso não existir inseri\n",
        "dc.setdefault(\"limão\", 22)"
      ],
      "execution_count": 52,
      "outputs": [
        {
          "output_type": "execute_result",
          "data": {
            "text/plain": [
              "22"
            ]
          },
          "metadata": {},
          "execution_count": 52
        }
      ]
    },
    {
      "cell_type": "code",
      "metadata": {
        "colab": {
          "base_uri": "https://localhost:8080/"
        },
        "id": "f7F6houD7DFZ",
        "outputId": "ede072ae-b3ea-4853-f6a0-860916ef867f"
      },
      "source": [
        "dc"
      ],
      "execution_count": 53,
      "outputs": [
        {
          "output_type": "execute_result",
          "data": {
            "text/plain": [
              "{'Maçã': 25, 'cachorro': 30, 'gato': 10, 'limão': 22, 'papagaio': 40}"
            ]
          },
          "metadata": {},
          "execution_count": 53
        }
      ]
    },
    {
      "cell_type": "code",
      "metadata": {
        "id": "eQIV9X_N7FLC"
      },
      "source": [
        ""
      ],
      "execution_count": null,
      "outputs": []
    }
  ]
}